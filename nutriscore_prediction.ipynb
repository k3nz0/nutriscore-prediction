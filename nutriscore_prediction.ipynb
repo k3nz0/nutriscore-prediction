{
 "cells": [
  {
   "cell_type": "markdown",
   "metadata": {},
   "source": [
    "# Datacamp project\n",
    "\n",
    "# Predicting the Nutriscore grade of a product\n",
    "\n",
    "##### Authors :\n",
    "* Alban Petit\n",
    "* Gaspard Donada--Vidal\n",
    "* Ghassen Chaabane\n",
    "* Moez Ezzeddine\n",
    "* Nicolas Devatine\n",
    "\n",
    "<img src=\"resources/nutriscore.jpg\" width=\"250\">\n",
    "\n",
    "This starting kit requires the following dependencies :\n",
    "* matplotlib\n",
    "* numpy\n",
    "* pandas\n",
    "* seaborn\n",
    "* scikit-learn\n",
    "All these modules can be installed with `pip install -r requirements.txt`\n",
    "\n",
    "You also need the ramp-workflow that can be installed directly from the GitHub repository :\n",
    "`python -m pip install https://api.github.com/repos/paris-saclay-cds/ramp-workflow/zipball/master`"
   ]
  },
  {
   "cell_type": "code",
   "execution_count": 1,
   "metadata": {},
   "outputs": [],
   "source": [
    "import numpy as np\n",
    "import os\n",
    "#import problem\n",
    "from sklearn.model_selection import train_test_split\n",
    "import pandas as pd\n",
    "import matplotlib.pyplot as plt\n",
    "%matplotlib inline\n",
    "import seaborn as sns\n",
    "sns.set(style=\"whitegrid\")"
   ]
  },
  {
   "cell_type": "markdown",
   "metadata": {},
   "source": [
    "# General Outline\n",
    "\n",
    "### 1. Business case\n",
    "1.1. Introduction <br/>\n",
    "1.2. Business case <br/>\n",
    "1.3. Data sources <br/>\n",
    "1.4. Metric\n",
    "### 2. Exploratory Data Analysis\n",
    "2.1. Statistics / Vizualization\n",
    "### 3. Model to submit\n",
    "3.1. Workflow <br/>\n",
    "3.2. Feature Extractor <br/>\n",
    "3.3 Baseline Classifier <br/>\n",
    "3.4. Evaluation\n",
    "### 4. Submitting on RAMP"
   ]
  },
  {
   "cell_type": "markdown",
   "metadata": {},
   "source": [
    "# 1. Business case"
   ]
  },
  {
   "cell_type": "markdown",
   "metadata": {},
   "source": [
    "## 1.1. Introduction\n",
    "\n",
    "In 2016, \"Santé Publique France\" unveiled the nutriscore, a 5-Color label that conveys information on the nutrional quality of food products.\n",
    "As of today, this system has been used by many companies and retailers, despite the fact that it is not mandatory.\n",
    "\n",
    "But in January 2020, members of the European parliament suggested to extend the use of the Nutriscore.\n",
    "Moreover, a petition on the website \"European Citizens Initiative\" (eci.ec.europa.eu) was launched in 2019 in order to impose the Nutriscore on food products."
   ]
  },
  {
   "cell_type": "markdown",
   "metadata": {},
   "source": [
    "## 1.2. Business case\n",
    "\n",
    "The Nutriscore uses a determinist formula using the nutritional value of the products, but would it be possible to estimate the Nutriscore even if we missed some information?\n",
    "This is the goal of this competition: using incomplete information and non-numerical clues in order to assess as accurately as possible the Nutriscore of an item."
   ]
  },
  {
   "cell_type": "markdown",
   "metadata": {},
   "source": [
    "## 1.3. Data sources\n",
    "\n",
    "<img src=\"resources/off.png\" width=\"250\">\n",
    "\n",
    "The data comes exclusively from the Open Food Facts database, accessible on http://openfoodfacts.org/.\n",
    "The database is available under the Open Database License and is managed by the non-profit organization Open Food Facts.\n",
    "Most of the data is provided by invidual contributors that wish to help the project."
   ]
  },
  {
   "cell_type": "markdown",
   "metadata": {},
   "source": [
    "## 1.4. Metric\n",
    "\n",
    "There are only five possible outputs (A, B, C, D and E) and the classes are moderately unbalanced.\n",
    "The metric used should penalize depending on the distance between the predicted letter and the true letter.\n",
    "In other words, it should penalize more heavily the prediction of a \"E\" instead of an \"A\" than the prediction of a \"B\" instead of an \"A\".\n",
    "Moreover, since believing junk food to be health is a greater problem than the opposite, the loss function should reflect that by strongly penalizing overestimates.\n",
    "So, we will convert the letter into an integer between 0 and 4 (E being 0 and A being 4) and then use the following loss function:\n",
    "\n",
    "\n",
    "$$L(\\hat{\\theta}, \\theta) = \\mathbb{E}\\left[(2f^+(\\hat{\\theta}-\\theta ))^2 + (2f^+(\\theta-\\hat{\\theta}))^{3/2}\\right]$$"
   ]
  },
  {
   "cell_type": "markdown",
   "metadata": {},
   "source": [
    "# 2. Exploratory Data Analysis"
   ]
  },
  {
   "cell_type": "markdown",
   "metadata": {},
   "source": [
    "## 2.1 Loading data"
   ]
  },
  {
   "cell_type": "code",
   "execution_count": 2,
   "metadata": {},
   "outputs": [],
   "source": [
    "from problem import get_train_data"
   ]
  },
  {
   "cell_type": "code",
   "execution_count": 3,
   "metadata": {
    "scrolled": true
   },
   "outputs": [
    {
     "name": "stdout",
     "output_type": "stream",
     "text": [
      "            _id                                          allergens  \\\n",
      "0  3.250390e+12  en:eggs en:gluten en:lupin en:milk en:nuts en:...   \n",
      "1  5.150025e+10                                                NaN   \n",
      "2  3.259426e+12                                  en:eggs en:gluten   \n",
      "3  3.123340e+12                                                NaN   \n",
      "4  8.000965e+12                                          en:gluten   \n",
      "\n",
      "        brands                                    categories_tags  \\\n",
      "0     Chabrior  en:snacks en:sweet-snacks en:biscuits-and-cake...   \n",
      "1          JIF                   en:spreads es:crema-de-cacahuate   \n",
      "2  Ker Cadélac  en:snacks en:sweet-snacks en:biscuits-and-cake...   \n",
      "3        Joker  en:plant-based-foods-and-beverages en:beverage...   \n",
      "4     consilia  en:plant-based-foods-and-beverages en:plant-ba...   \n",
      "\n",
      "                                    ingredients_tags  nova_group  \\\n",
      "0  en:chocolate en:emulsifier en:flavouring en:wh...         4.0   \n",
      "1  en:ingredient en:peanut es:solidos-de-jarabe-d...         NaN   \n",
      "2  en:wheat-flour en:cereal en:flour en:wheat en:...         4.0   \n",
      "3  fr:jus-et-purees-a-base-de-jus-concentres-de e...         3.0   \n",
      "4  it:farine en:chocolate-filling en:chocolate en...         4.0   \n",
      "\n",
      "  nutriscore_grade  \n",
      "0                e  \n",
      "1                d  \n",
      "2                d  \n",
      "3                e  \n",
      "4                d  \n"
     ]
    }
   ],
   "source": [
    "path_to_data = './data/'\n",
    "X_train, y_train = get_train_data(path=path_to_data)"
   ]
  },
  {
   "cell_type": "markdown",
   "metadata": {},
   "source": [
    "## 2.2 Data description"
   ]
  },
  {
   "cell_type": "code",
   "execution_count": 165,
   "metadata": {},
   "outputs": [
    {
     "name": "stdout",
     "output_type": "stream",
     "text": [
      "<class 'pandas.core.frame.DataFrame'>\n",
      "RangeIndex: 234372 entries, 0 to 234371\n",
      "Data columns (total 6 columns):\n",
      "_id                 234372 non-null float64\n",
      "allergens           57080 non-null object\n",
      "brands              204838 non-null object\n",
      "categories_tags     234371 non-null object\n",
      "ingredients_tags    164835 non-null object\n",
      "nova_group          147087 non-null float64\n",
      "dtypes: float64(2), object(4)\n",
      "memory usage: 10.7+ MB\n"
     ]
    }
   ],
   "source": [
    "X_train.info()"
   ]
  },
  {
   "cell_type": "code",
   "execution_count": 166,
   "metadata": {},
   "outputs": [
    {
     "data": {
      "text/plain": [
       "Index(['_id', 'allergens', 'brands', 'categories_tags', 'ingredients_tags',\n",
       "       'nova_group'],\n",
       "      dtype='object')"
      ]
     },
     "execution_count": 166,
     "metadata": {},
     "output_type": "execute_result"
    }
   ],
   "source": [
    "X_train.columns"
   ]
  },
  {
   "cell_type": "code",
   "execution_count": 167,
   "metadata": {},
   "outputs": [
    {
     "data": {
      "text/html": [
       "<div>\n",
       "<style scoped>\n",
       "    .dataframe tbody tr th:only-of-type {\n",
       "        vertical-align: middle;\n",
       "    }\n",
       "\n",
       "    .dataframe tbody tr th {\n",
       "        vertical-align: top;\n",
       "    }\n",
       "\n",
       "    .dataframe thead th {\n",
       "        text-align: right;\n",
       "    }\n",
       "</style>\n",
       "<table border=\"1\" class=\"dataframe\">\n",
       "  <thead>\n",
       "    <tr style=\"text-align: right;\">\n",
       "      <th></th>\n",
       "      <th>_id</th>\n",
       "      <th>allergens</th>\n",
       "      <th>brands</th>\n",
       "      <th>categories_tags</th>\n",
       "      <th>ingredients_tags</th>\n",
       "      <th>nova_group</th>\n",
       "    </tr>\n",
       "  </thead>\n",
       "  <tbody>\n",
       "    <tr>\n",
       "      <th>0</th>\n",
       "      <td>3.250390e+12</td>\n",
       "      <td>en:eggs,en:gluten,en:lupin,en:milk,en:nuts,en:...</td>\n",
       "      <td>Chabrior</td>\n",
       "      <td>en:snacks, en:sweet-snacks, en:biscuits-and-ca...</td>\n",
       "      <td>en:chocolate, en:emulsifier, en:flavouring, en...</td>\n",
       "      <td>4.0</td>\n",
       "    </tr>\n",
       "    <tr>\n",
       "      <th>1</th>\n",
       "      <td>5.150025e+10</td>\n",
       "      <td>NaN</td>\n",
       "      <td>JIF</td>\n",
       "      <td>en:spreads, es:crema-de-cacahuate</td>\n",
       "      <td>en:ingredient, en:peanut, es:solidos-de-jarabe...</td>\n",
       "      <td>NaN</td>\n",
       "    </tr>\n",
       "    <tr>\n",
       "      <th>2</th>\n",
       "      <td>3.259426e+12</td>\n",
       "      <td>en:eggs,en:gluten</td>\n",
       "      <td>Ker Cadélac</td>\n",
       "      <td>en:snacks, en:sweet-snacks, en:biscuits-and-ca...</td>\n",
       "      <td>en:wheat-flour, en:cereal, en:flour, en:wheat,...</td>\n",
       "      <td>4.0</td>\n",
       "    </tr>\n",
       "    <tr>\n",
       "      <th>3</th>\n",
       "      <td>3.123340e+12</td>\n",
       "      <td>NaN</td>\n",
       "      <td>Joker</td>\n",
       "      <td>en:plant-based-foods-and-beverages, en:beverag...</td>\n",
       "      <td>fr:jus-et-purees-a-base-de-jus-concentres-de, ...</td>\n",
       "      <td>3.0</td>\n",
       "    </tr>\n",
       "    <tr>\n",
       "      <th>4</th>\n",
       "      <td>8.000965e+12</td>\n",
       "      <td>en:gluten</td>\n",
       "      <td>consilia</td>\n",
       "      <td>en:plant-based-foods-and-beverages, en:plant-b...</td>\n",
       "      <td>it:farine, en:chocolate-filling, en:chocolate,...</td>\n",
       "      <td>4.0</td>\n",
       "    </tr>\n",
       "  </tbody>\n",
       "</table>\n",
       "</div>"
      ],
      "text/plain": [
       "            _id                                          allergens  \\\n",
       "0  3.250390e+12  en:eggs,en:gluten,en:lupin,en:milk,en:nuts,en:...   \n",
       "1  5.150025e+10                                                NaN   \n",
       "2  3.259426e+12                                  en:eggs,en:gluten   \n",
       "3  3.123340e+12                                                NaN   \n",
       "4  8.000965e+12                                          en:gluten   \n",
       "\n",
       "        brands                                    categories_tags  \\\n",
       "0     Chabrior  en:snacks, en:sweet-snacks, en:biscuits-and-ca...   \n",
       "1          JIF                  en:spreads, es:crema-de-cacahuate   \n",
       "2  Ker Cadélac  en:snacks, en:sweet-snacks, en:biscuits-and-ca...   \n",
       "3        Joker  en:plant-based-foods-and-beverages, en:beverag...   \n",
       "4     consilia  en:plant-based-foods-and-beverages, en:plant-b...   \n",
       "\n",
       "                                    ingredients_tags  nova_group  \n",
       "0  en:chocolate, en:emulsifier, en:flavouring, en...         4.0  \n",
       "1  en:ingredient, en:peanut, es:solidos-de-jarabe...         NaN  \n",
       "2  en:wheat-flour, en:cereal, en:flour, en:wheat,...         4.0  \n",
       "3  fr:jus-et-purees-a-base-de-jus-concentres-de, ...         3.0  \n",
       "4  it:farine, en:chocolate-filling, en:chocolate,...         4.0  "
      ]
     },
     "execution_count": 167,
     "metadata": {},
     "output_type": "execute_result"
    }
   ],
   "source": [
    "X_train.head()"
   ]
  },
  {
   "cell_type": "code",
   "execution_count": 168,
   "metadata": {},
   "outputs": [
    {
     "data": {
      "image/png": "[encoded data removed]",
      "text/plain": [
       "<Figure size 432x288 with 1 Axes>"
      ]
     },
     "metadata": {},
     "output_type": "display_data"
    }
   ],
   "source": [
    "from collections import Counter\n",
    "\n",
    "distribution = Counter(y_train)\n",
    "plt.bar(distribution.keys(), distribution.values());\n",
    "\n",
    "plt.ylabel('Count')\n",
    "plt.title('Classes')\n",
    " \n",
    "plt.show()"
   ]
  },
  {
   "cell_type": "markdown",
   "metadata": {},
   "source": [
    "Print the 10 most common ingredients"
   ]
  },
  {
   "cell_type": "code",
   "execution_count": 174,
   "metadata": {},
   "outputs": [
    {
     "data": {
      "text/plain": [
       "[('en:salt', 84512),\n",
       " ('en:sugar', 71480),\n",
       " ('en:water', 58923),\n",
       " ('en:oil-and-fat', 56757),\n",
       " ('en:flavouring', 52065),\n",
       " ('en:dairy', 51405),\n",
       " ('en:vegetable-oil-and-fat', 51142),\n",
       " ('en:cereal', 43503),\n",
       " ('en:vegetable', 43451),\n",
       " ('en:wheat', 37095)]"
      ]
     },
     "execution_count": 174,
     "metadata": {},
     "output_type": "execute_result"
    }
   ],
   "source": [
    "ingredients_tags = X_train[X_train['ingredients_tags'].notnull()]\n",
    "ingredients_tags = ingredients_tags['ingredients_tags']\n",
    "\n",
    "unique_ingredients_tags = []\n",
    "nb_ingredients_distribution = []\n",
    "\n",
    "for ing in ingredients_tags:\n",
    "    ing_list = ing.split(',')\n",
    "    unique_ingredients_tags += ing_list\n",
    "    nb_ingredients_distribution.append(len(ing_list))\n",
    "    \n",
    "mean_number_of_ingredients = len(unique_ingredients_tags)/X_train.shape[0]\n",
    "\n",
    "unique_ingredients_tags = [i.replace(' ', '') for i in unique_ingredients_tags]\n",
    "unique_ingredients_tags = Counter(unique_ingredients_tags)\n",
    "\n",
    "unique_ingredients_tags.most_common(10)"
   ]
  },
  {
   "cell_type": "code",
   "execution_count": 175,
   "metadata": {},
   "outputs": [
    {
     "name": "stdout",
     "output_type": "stream",
     "text": [
      "Mean number of ingredients = 14.043226153294762\n"
     ]
    }
   ],
   "source": [
    "print(\"Mean number of ingredients =\", mean_number_of_ingredients)"
   ]
  },
  {
   "cell_type": "code",
   "execution_count": 177,
   "metadata": {},
   "outputs": [
    {
     "data": {
      "image/png": "[encoded data removed]",
      "text/plain": [
       "<Figure size 432x288 with 1 Axes>"
      ]
     },
     "metadata": {},
     "output_type": "display_data"
    }
   ],
   "source": [
    "plt.hist(nb_ingredients_distribution, bins = int(60), color = 'blue', edgecolor = 'black')\n",
    "plt.xlabel('Number of ingredients', size = 15)\n",
    "plt.ylabel('Number of products', size= 15)\n",
    "plt.tight_layout()\n",
    "plt.show()"
   ]
  },
  {
   "cell_type": "markdown",
   "metadata": {},
   "source": [
    "As it is shown on the graph below, there is an important number of ingredients that appear only very few times."
   ]
  },
  {
   "cell_type": "code",
   "execution_count": 129,
   "metadata": {},
   "outputs": [
    {
     "data": {
      "image/png": "[encoded data removed]",
      "text/plain": [
       "<Figure size 432x288 with 1 Axes>"
      ]
     },
     "metadata": {},
     "output_type": "display_data"
    }
   ],
   "source": [
    "y = sorted(list(unique_ingredients_tags.values()), reverse=True)\n",
    "x = np.arange(len(y))\n",
    "plt.yscale(\"log\")\n",
    "plt.plot(x,y)\n",
    "plt.xlabel(\"Ingredient tags\")\n",
    "plt.ylabel(\"Count\")\n",
    "plt.show()\n"
   ]
  },
  {
   "cell_type": "markdown",
   "metadata": {},
   "source": [
    "# 3. Model to submit\n",
    "## 3.1. Workflow"
   ]
  },
  {
   "cell_type": "markdown",
   "metadata": {},
   "source": [
    "The model works as follows :\n",
    "* A feature extractor is used on the input to perform feature engineering\n",
    "* The features generated are fed to a model to generate a prediction\n",
    "\n",
    "<p> During the training, the model will use the labels to correct its behaviour. <br> Then, the model is evaluated over a test set using our metric. </p>\n",
    "\n",
    "<img src=\"resources/workflow.png\" width=\"800\">"
   ]
  },
  {
   "cell_type": "markdown",
   "metadata": {},
   "source": [
    "## 3.2. Feature Extractor"
   ]
  },
  {
   "cell_type": "code",
   "execution_count": 6,
   "metadata": {},
   "outputs": [
    {
     "name": "stdout",
     "output_type": "stream",
     "text": [
      "Overwriting submissions/starting_kit/feature_extractor.py\n"
     ]
    }
   ],
   "source": [
    "%%file submissions/starting_kit/feature_extractor.py\n",
    "\n",
    "class FeatureExtractor:\n",
    "    def __init__(self):\n",
    "        \n",
    "    def fit(self, X_df, y):\n",
    "        pass\n",
    "    \n",
    "    def transform(self, X_df):\n",
    "        #TODO"
   ]
  },
  {
   "cell_type": "markdown",
   "metadata": {},
   "source": [
    "## 3.3. Baseline Classifier"
   ]
  },
  {
   "cell_type": "code",
   "execution_count": 7,
   "metadata": {},
   "outputs": [
    {
     "name": "stdout",
     "output_type": "stream",
     "text": [
      "Overwriting submissions/starting_kit/classifier.py\n"
     ]
    }
   ],
   "source": [
    "%%file submissions/starting_kit/classifier.py\n",
    "from sklearn.tree import DecisionTree\n",
    "\n",
    "class Classifier(BaseEstimator):\n",
    "    \n",
    "    def __init__(self):\n",
    "        self.model = DecisionTree()\n",
    "        \n",
    "    def fit(self, X, y):\n",
    "        self.model.fit(X, y)\n",
    "        \n",
    "    def predict(self, X):\n",
    "        return self.model.predict(X)"
   ]
  },
  {
   "cell_type": "markdown",
   "metadata": {},
   "source": [
    "# 4. Submitting on RAMP\n",
    "You can test locally your submission before sending it to the RAMP platform backend using the command !ramp_test_submission --submission starting_kit.\n",
    "\n",
    "The usual way to use this is to explore various models, feature transformations, hyper-parameters optimization and test them using the following command. It uses our metric to estimate your score.\n",
    "\n",
    "To test files stored in a different folder, just replace 'starting_kit' by the name of your folder"
   ]
  },
  {
   "cell_type": "code",
   "execution_count": null,
   "metadata": {},
   "outputs": [],
   "source": [
    "!ramp_test_submission --submission starting_kit"
   ]
  }
 ],
 "metadata": {
  "kernelspec": {
   "display_name": "Python 3",
   "language": "python",
   "name": "python3"
  },
  "language_info": {
   "codemirror_mode": {
    "name": "ipython",
    "version": 3
   },
   "file_extension": ".py",
   "mimetype": "text/x-python",
   "name": "python",
   "nbconvert_exporter": "python",
   "pygments_lexer": "ipython3",
   "version": "3.7.3"
  }
 },
 "nbformat": 4,
 "nbformat_minor": 2
}
